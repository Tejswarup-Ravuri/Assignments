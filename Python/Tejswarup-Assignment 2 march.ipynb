{
 "cells": [
  {
   "cell_type": "markdown",
   "id": "0173d4a6",
   "metadata": {},
   "source": [
    "#### 2. Generating password\n"
   ]
  },
  {
   "cell_type": "code",
   "execution_count": 10,
   "id": "d82b8480",
   "metadata": {},
   "outputs": [
    {
     "name": "stdout",
     "output_type": "stream",
     "text": [
      "8#7yIp\n"
     ]
    }
   ],
   "source": [
    "import random \n",
    "import string\n",
    "def password(string,value):\n",
    "    pwd=string+value\n",
    "    #tolist\n",
    "    pwdlist=list(pwd)\n",
    "    random.shuffle(pwdlist)\n",
    "    empty=''\n",
    "    for i in range(len(pwdlist)):\n",
    "        empty+=pwdlist[i]\n",
    "    print(empty)\n",
    "    upper,lower,num,spe=0,0,0,0\n",
    "    for i in range(len(pwd)):\n",
    "        if(pwd[i]>='A' and pwd[i]<='Z'):\n",
    "            upper+=1\n",
    "        elif (pwd[i]>='a' and pwd[i]<='z'):\n",
    "            lower+=1\n",
    "        elif (pwd[i]>='0' and pwd[i]<='9'):\n",
    "            num+=1\n",
    "        else:\n",
    "            spe+=1\n",
    "var=''\n",
    "special=\"@#$%&*^><\"\n",
    "for i in range(1):\n",
    "    var+=random.choice(special)\n",
    "for i in range(3):\n",
    "    var+=random.choice(string.ascii_letters)\n",
    "password(var,str(random.randint(10,99)))"
   ]
  },
  {
   "cell_type": "markdown",
   "id": "8d1ae281",
   "metadata": {},
   "source": [
    "#### updating array by positions"
   ]
  },
  {
   "cell_type": "code",
   "execution_count": 16,
   "id": "49274c9a",
   "metadata": {},
   "outputs": [
    {
     "name": "stdout",
     "output_type": "stream",
     "text": [
      "[[ 1  2  3  4  5]\n",
      " [ 6  7  8  9 10]\n",
      " [11 12 13 14 15]\n",
      " [16 17 18 19 20]\n",
      " [21 22 23 24 25]]\n",
      "                   \n",
      "[[    1     8    27     4   125]\n",
      " [    6   343     8     9    10]\n",
      " [ 1331    12  2197    14    15]\n",
      " [   16  4913    18  6859    20]\n",
      " [   21    22 12167    24    25]]\n"
     ]
    }
   ],
   "source": [
    "import numpy as np\n",
    "import math\n",
    "def check(num):\n",
    "    prime=0\n",
    "    for i in  range(2,int(math.sqrt(num)+1)):\n",
    "        if num%i==0:\n",
    "            prime=1\n",
    "            break\n",
    "    if prime==0:\n",
    "        return True\n",
    "array=np.arange(1,26).reshape(5,5)\n",
    "print(array)\n",
    "print(\"                   \")\n",
    "for i in range(len(array[0])):\n",
    "    for j in range(len(array[1])):\n",
    "        if check(array[i][j])==True:\n",
    "            array[i][j]=array[i][j]**3\n",
    "print(array)"
   ]
  },
  {
   "cell_type": "markdown",
   "id": "7616b4b1",
   "metadata": {},
   "source": [
    "#### Python program to get the sum of every cubed value and its previous \n",
    "integer. "
   ]
  },
  {
   "cell_type": "code",
   "execution_count": 67,
   "id": "0d0216d7",
   "metadata": {},
   "outputs": [
    {
     "data": {
      "text/plain": [
       "array([[    1,     9,    36,     4,   129],\n",
       "       [    6,   349,     8,     9,    10],\n",
       "       [ 1341,    12,  2209,    14,    15],\n",
       "       [   16,  4929,    18,  6877,    20],\n",
       "       [   21,    22, 12189,    24,    25]])"
      ]
     },
     "execution_count": 67,
     "metadata": {},
     "output_type": "execute_result"
    }
   ],
   "source": [
    "def check(num):\n",
    "    prime=0\n",
    "    for i in  range(2,int(math.sqrt(num)+1)):\n",
    "        if num%i==0:\n",
    "            prime=1\n",
    "            break\n",
    "    if prime==0:\n",
    "        return True\n",
    "array7=np.arange(1,26).reshape(5,5)\n",
    "listarr=array7.flatten()\n",
    "for i in range(len(listarr)):\n",
    "            if check(listarr[i])==True and listarr[i]!=1:\n",
    "                  listarr[i]=listarr[i]**3+listarr[i-1]\n",
    "# for i in range(len(listarr)):\n",
    "#     print(listarr[i])\n",
    "array8=np.array(listarr).reshape(5,5)\n",
    "array8\n",
    "                \n",
    "                \n",
    "     \n",
    "            "
   ]
  },
  {
   "cell_type": "code",
   "execution_count": null,
   "id": "7737de52",
   "metadata": {},
   "outputs": [],
   "source": []
  },
  {
   "cell_type": "markdown",
   "id": "a8bb9553",
   "metadata": {},
   "source": [
    "#### 5.Array intersection"
   ]
  },
  {
   "cell_type": "code",
   "execution_count": 29,
   "id": "8469898f",
   "metadata": {},
   "outputs": [
    {
     "data": {
      "text/plain": [
       "[3, 5]"
      ]
     },
     "execution_count": 29,
     "metadata": {},
     "output_type": "execute_result"
    }
   ],
   "source": [
    "arr1=np.array([1, 3, 4, 5, 7])\n",
    "arr2= np.array([2, 3, 5, 6])\n",
    "list(filter(lambda num:num in arr1,arr2 ))"
   ]
  },
  {
   "cell_type": "markdown",
   "id": "300c289e",
   "metadata": {},
   "source": [
    "#### Create a 7 x 7  2D array having only multiples of 7. And return the last \n",
    "element of the same"
   ]
  },
  {
   "cell_type": "code",
   "execution_count": 28,
   "id": "7cf1b1b9",
   "metadata": {},
   "outputs": [
    {
     "name": "stdout",
     "output_type": "stream",
     "text": [
      "[[  7  14  21  28  35  42  49]\n",
      " [ 56  63  70  77  84  91  98]\n",
      " [105 112 119 126 133 140 147]\n",
      " [154 161 168 175 182 189 196]\n",
      " [203 210 217 224 231 238 245]\n",
      " [252 259 266 273 280 287 294]\n",
      " [301 308 315 322 329 336 343]]\n",
      "[[  7  14  21  28  35  42  49]\n",
      " [ 56  63  70  77  84  91  98]\n",
      " [105 112 119 126 133 140 147]\n",
      " [154 161 168 175 182 189 196]\n",
      " [203 210 217 224 231 238 245]\n",
      " [252 259 266 273 280 287 294]\n",
      " [301 308 315 322 329 336 343]]\n",
      "Returning last element\n",
      "343\n"
     ]
    }
   ],
   "source": [
    "n=7*7\n",
    "array2=np.arange(7,n*7+1,7).reshape(7,7)\n",
    "print(array2)\n",
    "print(array2)\n",
    "print(\"Returning last element\")\n",
    "print(array2[-1,-1])"
   ]
  },
  {
   "cell_type": "markdown",
   "id": "c095859d",
   "metadata": {},
   "source": [
    "#### Checker Board Patten using Numpy:\n",
    "[   1   0   1   0   1   0   1\n",
    "    0   1   0   1   0   1   0\n",
    "    1   0   1   0   1   0   1\n",
    "    0   1   0   1   0   1   0\n",
    "    1   0   1   0   1   0   1  ]"
   ]
  },
  {
   "cell_type": "code",
   "execution_count": 67,
   "id": "7457ca9c",
   "metadata": {},
   "outputs": [
    {
     "data": {
      "text/plain": [
       "array([[1., 0., 1., 0., 1., 0., 1.],\n",
       "       [0., 1., 0., 1., 0., 1., 0.],\n",
       "       [1., 0., 1., 0., 1., 0., 1.],\n",
       "       [0., 1., 0., 1., 0., 1., 0.],\n",
       "       [1., 0., 1., 0., 1., 0., 1.]])"
      ]
     },
     "execution_count": 67,
     "metadata": {},
     "output_type": "execute_result"
    }
   ],
   "source": [
    "array3=np.zeros((5,7))\n",
    "array3\n",
    "array3[0::2,0::2]=1\n",
    "array3[1::2,1::2]=1\n",
    "array3"
   ]
  },
  {
   "cell_type": "markdown",
   "id": "3251223f",
   "metadata": {},
   "source": [
    "#### Replace all the vowels by np.nan\n",
    "A, E, I, O U  -- >  np.nan"
   ]
  },
  {
   "cell_type": "code",
   "execution_count": 14,
   "id": "545cced2",
   "metadata": {},
   "outputs": [
    {
     "name": "stdout",
     "output_type": "stream",
     "text": [
      "3\n"
     ]
    }
   ],
   "source": [
    "\n",
    "import numpy as np\n",
    "array4=np.array([['A','B','C','D'],['E','F','G','H'],['I','a','K','L'],['M','N','o','P'],['Q','R','S','T'],['U','0','W','O' ]])\n",
    "count=0\n",
    "for i in range(len(array4[0])):\n",
    "    for j in range(len(array4[1])):\n",
    "        if array4[i][j]=='A' or array4[i][j]=='E' or array4[i][j]=='I' or array4[i][j]=='O' or array4[i][j]=='U':\n",
    "                     array4[i][j]=str(np.nan)\n",
    "                     count+=1\n",
    "\n",
    "print(count)\n"
   ]
  },
  {
   "cell_type": "code",
   "execution_count": 4,
   "id": "0b2a6795",
   "metadata": {},
   "outputs": [
    {
     "ename": "TypeError",
     "evalue": "object supporting the buffer API required",
     "output_type": "error",
     "traceback": [
      "\u001b[1;31m---------------------------------------------------------------------------\u001b[0m",
      "\u001b[1;31mTypeError\u001b[0m                                 Traceback (most recent call last)",
      "\u001b[1;32m~\\AppData\\Local\\Temp\\ipykernel_14016\\742163176.py\u001b[0m in \u001b[0;36m<module>\u001b[1;34m\u001b[0m\n\u001b[0;32m      5\u001b[0m \u001b[0mf1\u001b[0m\u001b[1;33m.\u001b[0m\u001b[0mseek\u001b[0m\u001b[1;33m(\u001b[0m\u001b[1;36m0\u001b[0m\u001b[1;33m)\u001b[0m\u001b[1;33m\u001b[0m\u001b[1;33m\u001b[0m\u001b[0m\n\u001b[0;32m      6\u001b[0m \u001b[0mf2\u001b[0m\u001b[1;33m.\u001b[0m\u001b[0mseek\u001b[0m\u001b[1;33m(\u001b[0m\u001b[1;36m0\u001b[0m\u001b[1;33m)\u001b[0m\u001b[1;33m\u001b[0m\u001b[1;33m\u001b[0m\u001b[0m\n\u001b[1;32m----> 7\u001b[1;33m \u001b[0mmsg1\u001b[0m\u001b[1;33m=\u001b[0m\u001b[0mhashlib\u001b[0m\u001b[1;33m.\u001b[0m\u001b[0msha256\u001b[0m\u001b[1;33m(\u001b[0m\u001b[0mf1\u001b[0m\u001b[1;33m.\u001b[0m\u001b[0mreadlines\u001b[0m\u001b[1;33m(\u001b[0m\u001b[1;33m)\u001b[0m\u001b[1;33m)\u001b[0m\u001b[1;33m\u001b[0m\u001b[1;33m\u001b[0m\u001b[0m\n\u001b[0m\u001b[0;32m      8\u001b[0m \u001b[0mmsg2\u001b[0m\u001b[1;33m=\u001b[0m\u001b[0mhashlib\u001b[0m\u001b[1;33m.\u001b[0m\u001b[0msha256\u001b[0m\u001b[1;33m(\u001b[0m\u001b[0mf2\u001b[0m\u001b[1;33m.\u001b[0m\u001b[0mreadlines\u001b[0m\u001b[1;33m(\u001b[0m\u001b[1;33m)\u001b[0m\u001b[1;33m)\u001b[0m\u001b[1;33m\u001b[0m\u001b[1;33m\u001b[0m\u001b[0m\n\u001b[0;32m      9\u001b[0m \u001b[0mup1\u001b[0m\u001b[1;33m=\u001b[0m\u001b[0mhashlib\u001b[0m\u001b[1;33m.\u001b[0m\u001b[0msha256\u001b[0m\u001b[1;33m(\u001b[0m\u001b[0mmsg1\u001b[0m\u001b[1;33m)\u001b[0m\u001b[1;33m.\u001b[0m\u001b[0mhexdigest\u001b[0m\u001b[1;33m(\u001b[0m\u001b[1;33m)\u001b[0m\u001b[1;33m\u001b[0m\u001b[1;33m\u001b[0m\u001b[0m\n",
      "\u001b[1;31mTypeError\u001b[0m: object supporting the buffer API required"
     ]
    }
   ],
   "source": [
    "import hashlib\n",
    "import os\n",
    "f1=open(\"D:\\Random.txt\",'r')\n",
    "f2=open(\"D:\\Random1.txt\",'r')\n",
    "f1.seek(0)\n",
    "f2.seek(0)\n",
    "msg1=hashlib.sha256(f1.readlines())\n",
    "msg2=hashlib.sha256(f2.readlines())\n",
    "up1=hashlib.sha256(msg1).hexdigest()\n",
    "up2=hashlib.sha256(ms2).hexdigest()\n",
    "if up1==up2:\n",
    "    os.remove(\"D:\\Random1.txt\")\n",
    "    print(\"removed\")\n",
    "    \n"
   ]
  },
  {
   "cell_type": "code",
   "execution_count": null,
   "id": "aea1c957",
   "metadata": {},
   "outputs": [],
   "source": []
  }
 ],
 "metadata": {
  "kernelspec": {
   "display_name": "Python 3 (ipykernel)",
   "language": "python",
   "name": "python3"
  },
  "language_info": {
   "codemirror_mode": {
    "name": "ipython",
    "version": 3
   },
   "file_extension": ".py",
   "mimetype": "text/x-python",
   "name": "python",
   "nbconvert_exporter": "python",
   "pygments_lexer": "ipython3",
   "version": "3.9.13"
  }
 },
 "nbformat": 4,
 "nbformat_minor": 5
}
